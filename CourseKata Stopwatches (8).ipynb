{
 "cells": [
  {
   "cell_type": "markdown",
   "metadata": {},
   "source": [
    "# CourseKata Stopwatches\n",
    "\n",
    "These stopwatches were developed specifically for the Chapter 6.1-6.3 Overview Notebook. However, they can be used wherever we want students to use a stopwatch for collecting data. "
   ]
  },
  {
   "cell_type": "code",
   "execution_count": 1,
   "metadata": {
    "cell_id": "00001-729831c0-b16b-460a-acfa-b932eab731be",
    "deepnote_cell_type": "code",
    "scrolled": false
   },
   "outputs": [
    {
     "name": "stderr",
     "output_type": "stream",
     "text": [
      "── \u001b[1mCourseKata packages\u001b[22m ──────────────────────────────────── \u001b[1mcoursekata 0.18.0\u001b[22m ──\n",
      "\u001b[32m✔\u001b[39m \u001b[32mdslabs             \u001b[39m 0.7.6         \u001b[32m✔\u001b[39m \u001b[32mMetrics            \u001b[39m 0.1.4  \n",
      "\u001b[32m✔\u001b[39m \u001b[32mLock5withR         \u001b[39m 1.2.2         \u001b[32m✔\u001b[39m \u001b[32mlsr                \u001b[39m 0.5.2  \n",
      "\u001b[32m✔\u001b[39m \u001b[32mfivethirtyeightdata\u001b[39m 0.1.0         \u001b[32m✔\u001b[39m \u001b[32mmosaic             \u001b[39m 1.8.4.2\n",
      "\u001b[32m✔\u001b[39m \u001b[32mfivethirtyeight    \u001b[39m 0.6.2         \u001b[32m✔\u001b[39m \u001b[32msupernova          \u001b[39m 2.5.7  \n"
     ]
    },
    {
     "data": {
      "text/html": [
       "<style><style>\n",
       "/* Force CSS block parsing */\n",
       ".teacher-note::before {\n",
       "    content: \"\";\n",
       "    display: none;\n",
       "}\n",
       "\n",
       "/* Teacher Notes */\n",
       ".teacher-note {\n",
       "    border: 3px dashed #fd7f91;\n",
       "    font-size: 14px;\n",
       "    color: #000000;\n",
       "    background-color: #ffe8ec;\n",
       "    padding: 10px;\n",
       "    border-radius: 5px;\n",
       "    line-height: 1.5;\n",
       "}\n",
       ".teacher-note ol, .teacher-note ul, .teacher-note li {\n",
       "    margin-top: 5px;\n",
       "    padding-left: 20px;\n",
       "    color: #000000;\n",
       "}\n",
       ".teacher-note code {\n",
       "    color: #000000;\n",
       "    background-color: #ffd3da;\n",
       "}\n",
       "\n",
       "/* Discussion Question */\n",
       ".discussion-question {\n",
       "    border: 3px solid #a88bd4;\n",
       "    font-size: 14px;\n",
       "    color: #000000;\n",
       "    background-color: #eee8f6;\n",
       "    padding: 10px;\n",
       "    border-radius: 5px;\n",
       "    line-height: 1.5;\n",
       "}\n",
       ".discussion-question h3 {\n",
       "    margin: 0; /* Remove top and bottom margin */\n",
       "    padding: 0; /* Ensure no padding is applied */\n",
       "}\n",
       ".discussion-question h3:first-child {\n",
       "    margin-top: 0 !important;\n",
       "}\n",
       ".discussion-question code {\n",
       "    color: #000000;\n",
       "    background-color: #e0d5ef;\n",
       "}\n",
       "\n",
       "/* Guided Notes */\n",
       ".guided-notes {\n",
       "    border: 3px solid #708a89;\n",
       "    font-size: 14px;\n",
       "    color: #000000;\n",
       "    background-color: #f1f8f8;\n",
       "    padding: 10px;\n",
       "    border-radius: 5px;\n",
       "    line-height: 1.5;\n",
       "}\n",
       ".guided-notes h3 {\n",
       "    margin: 0;\n",
       "    padding: 0;\n",
       "    color: #000000;\n",
       "}\n",
       ".guided-notes h3:first-child, .discussion-question h3:first-child {\n",
       "    margin-top: 0 !important;\n",
       "}\n",
       ".guided-notes ol, .guided-notes ul, .guided-notes li {\n",
       "    margin-top: 5px;\n",
       "    padding-left: 20px;\n",
       "    color: #000000;\n",
       "}\n",
       ".guided-notes code {\n",
       "    color: #000000;\n",
       "    background-color: #dceeed;\n",
       "}\n",
       "\n",
       "/* Adjust line spacing for Level 3 headings */\n",
       ".rendered_html h3 {\n",
       "    font-size: 128.6%;\n",
       "    margin: 1.55em 0 0 0;\n",
       "    font-weight: bold;\n",
       "    line-height: 1.5;\n",
       "}\n",
       "</style></style>"
      ]
     },
     "metadata": {},
     "output_type": "display_data"
    }
   ],
   "source": [
    "# run this to set up the notebook\n",
    "library(coursekata)\n",
    "# set styles\n",
    "css <- suppressWarnings(readLines(\"https://raw.githubusercontent.com/jimstigler/jupyter/master/ck_jupyter_styles_v2.css\"))\n",
    "IRdisplay::display_html(sprintf('<style>%s</style>', paste(css, collapse = \"\\n\")))"
   ]
  },
  {
   "cell_type": "markdown",
   "metadata": {},
   "source": [
    "## 1 Overview\n",
    "\n",
    "These stopwatches were developed specifically for the Chapter 6.1-6.3 Overview Notebook. However, they can be used wherever we want students to use a stopwatch for collecting data. Unless specified as otherwise, these stopwatches will record their data in a centralized Google sheet. The data can be easily downloaded into R for a specific class or user.\n",
    "\n",
    "### 1.1 Stopwatch behavior parameters\n",
    "\n",
    "The following parameters, which can be included in the url that configures the stopwatch, determine the behavior of the stopwatch. (We will show examples of urls below.)\n",
    "\n",
    "<table border=\"1\" style=\"font-size: 18px; margin-left: 0; border-collapse: collapse; width: 100%;\">\n",
    "  <thead>\n",
    "    <tr>\n",
    "      <th style=\"border: 1px solid black; text-align: left; vertical-align: top; width: 13.33%;\">Parameter</th>\n",
    "      <th style=\"border: 1px solid black; text-align: left; vertical-align: top; width: 60%;\">Description</th>\n",
    "      <th style=\"border: 1px solid black; text-align: left; vertical-align: top; width: 13.33%;\">Default</th>\n",
    "      <th style=\"border: 1px solid black; text-align: left; vertical-align: top; width: 13.33%;\">Options</th>\n",
    "    </tr>\n",
    "  </thead>\n",
    "  <tbody>\n",
    "    <tr>\n",
    "      <td style=\"border: 1px solid black; text-align: left; vertical-align: top;\">trials</td>\n",
    "      <td style=\"border: 1px solid black; text-align: left; vertical-align: top;\">Maximum number of trials before the button is disabled. If omitted, no limit is enforced.</td>\n",
    "      <td style=\"border: 1px solid black; text-align: left; vertical-align: top;\">(none)</td>\n",
    "      <td style=\"border: 1px solid black; text-align: left; vertical-align: top;\">Any positive integer</td>\n",
    "    </tr>\n",
    "    <tr>\n",
    "      <td style=\"border: 1px solid black; text-align: left; vertical-align: top;\">progress</td>\n",
    "      <td style=\"border: 1px solid black; text-align: left; vertical-align: top;\">Controls whether the live timer is shown or hidden during the trial.</td>\n",
    "      <td style=\"border: 1px solid black; text-align: left; vertical-align: top;\">show</td>\n",
    "      <td style=\"border: 1px solid black; text-align: left; vertical-align: top;\">show, hide</td>\n",
    "    </tr>\n",
    "    <tr>\n",
    "      <td style=\"border: 1px solid black; text-align: left; vertical-align: top;\">result</td>\n",
    "      <td style=\"border: 1px solid black; text-align: left; vertical-align: top;\">Controls whether the elapsed time is shown at the end of each trial.</td>\n",
    "      <td style=\"border: 1px solid black; text-align: left; vertical-align: top;\">show</td>\n",
    "      <td style=\"border: 1px solid black; text-align: left; vertical-align: top;\">show, hide</td>\n",
    "    </tr>\n",
    "    <tr>\n",
    "      <td style=\"border: 1px solid black; text-align: left; vertical-align: top;\">save_data</td>\n",
    "      <td style=\"border: 1px solid black; text-align: left; vertical-align: top;\">If set to false, trial data will not be saved to the Google Sheet.</td>\n",
    "      <td style=\"border: 1px solid black; text-align: left; vertical-align: top;\">true</td>\n",
    "      <td style=\"border: 1px solid black; text-align: left; vertical-align: top;\">true, false</td>\n",
    "    </tr>\n",
    "  </tbody>\n",
    "</table>\n",
    "\n",
    "### 1.2 Data submission parameters\n",
    "\n",
    "The following additional parameters can be set and passed on with the data for each trial.\n",
    "\n",
    "<table border=\"1\" style=\"font-size: 18px; margin-left: 0; border-collapse: collapse; width: 100%;\">\n",
    "  <thead>\n",
    "    <tr>\n",
    "      <th style=\"border: 1px solid black; text-align: left; vertical-align: top; width: 13.33%;\">Parameter</th>\n",
    "      <th style=\"border: 1px solid black; text-align: left; vertical-align: top; width: 60%;\">Description</th>\n",
    "      <th style=\"border: 1px solid black; text-align: left; vertical-align: top; width: 13.33%;\">Default</th>\n",
    "      <th style=\"border: 1px solid black; text-align: left; vertical-align: top; width: 13.33%;\">Options</th>\n",
    "    </tr>\n",
    "  </thead>\n",
    "  <tbody>\n",
    "    <tr>\n",
    "      <td style=\"border: 1px solid black; text-align: left; vertical-align: top;\">class_id</td>\n",
    "      <td style=\"border: 1px solid black; text-align: left; vertical-align: top;\">Identifies the class for grouping or filtering data. Set by the teacher in the notebook and can be any unique ID (e.g., the teacher's email address)</td>\n",
    "      <td style=\"border: 1px solid black; text-align: left; vertical-align: top;\">anonymous</td>\n",
    "      <td style=\"border: 1px solid black; text-align: left; vertical-align: top;\">Any string</td>\n",
    "    </tr>\n",
    "    <tr>\n",
    "      <td style=\"border: 1px solid black; text-align: left; vertical-align: top;\">user_id</td>\n",
    "      <td style=\"border: 1px solid black; text-align: left; vertical-align: top;\">Identifies the user. Typically set in the notebook to the be user's Jupyter ID.</td>\n",
    "      <td style=\"border: 1px solid black; text-align: left; vertical-align: top;\">anonymous</td>\n",
    "      <td style=\"border: 1px solid black; text-align: left; vertical-align: top;\">Any string</td>\n",
    "    </tr>\n",
    "    <tr>\n",
    "      <td style=\"border: 1px solid black; text-align: left; vertical-align: top;\">session_id</td>\n",
    "      <td style=\"border: 1px solid black; text-align: left; vertical-align: top;\">Unique identifier for each  session. New sessions start on browser refresh or cell being re-run.</td>\n",
    "      <td style=\"border: 1px solid black; text-align: left; vertical-align: top;\">(generated)</td>\n",
    "      <td style=\"border: 1px solid black; text-align: left; vertical-align: top;\">5-character alphanumeric string</td>\n",
    "    </tr>\n",
    "     <tr>\n",
    "      <td style=\"border: 1px solid black; text-align: left; vertical-align: top;\">date</td>\n",
    "      <td style=\"border: 1px solid black; text-align: left; vertical-align: top;\">Timestamp for each trial, recorded in UTC. Useful for sorting, filtering, or session tracking.</td>\n",
    "      <td style=\"border: 1px solid black; text-align: left; vertical-align: top;\">(generated)</td>\n",
    "      <td style=\"border: 1px solid black; text-align: left; vertical-align: top;\">ISO 8601 UTC timestamp</td>\n",
    "    </tr>\n",
    "    <tr>\n",
    "      <td style=\"border: 1px solid black; text-align: left; vertical-align: top;\">condition</td>\n",
    "      <td style=\"border: 1px solid black; text-align: left; vertical-align: top;\">Used to label experimental or instructional groups. Saved in the dataset for analysis.</td>\n",
    "      <td style=\"border: 1px solid black; text-align: left; vertical-align: top;\">none</td>\n",
    "      <td style=\"border: 1px solid black; text-align: left; vertical-align: top;\">Any string</td>\n",
    "    </tr>\n",
    "  </tbody>\n",
    "</table>\n",
    "\n"
   ]
  },
  {
   "cell_type": "markdown",
   "metadata": {},
   "source": [
    "## 2 Data Saved in Centralized Google Sheet\n",
    "\n",
    "Data from the stopwatch are save in a centralized Google sheet that holds data for many classes. Example code for importing data from the spreadsheet into R is shown in section 3, below. By filtering data, you can look at only data for your class, for yourself (i.e., a single user), or for everyone. 6 variables are posted to the Google sheet, for each trial, in this order: \n",
    "\n",
    "- class_id - a unique ID supplied by the teacher)\n",
    "- user_id - typically the Jupyter ID generated in the notebook)\n",
    "- session_id - a unique ID that is generated each time the code is run)\n",
    "- date \n",
    "- condition - can be any text string)\n",
    "- trial - the attempt number for a session)\n",
    "- time_sec\n",
    "\n",
    "### 2.1 Setting the data submission parameters\n",
    "\n",
    "The values of `class_id`, `condition`, and `user_id` are generally set somewhere in the student-facing notebook before the cell in which the stopwatch appears. They could be set at the top of the notebook (in the setup cell), or revised later in the notebook (e.g., if the teacher wants to include both conditions in a notebook). The other variables are set automatically by the app."
   ]
  },
  {
   "cell_type": "code",
   "execution_count": 2,
   "metadata": {},
   "outputs": [],
   "source": [
    "# example code to set the data submission parameters\n",
    "class_id <- \"teacher@school.org\" # put any unique id here (e.g., teacher email address)\n",
    "condition <- \"none\" # this can be any text string\n",
    "user_id <- Sys.getenv(\"JUPYTERHUB_USER\") # this gets the users Jupyter ID"
   ]
  },
  {
   "cell_type": "markdown",
   "metadata": {},
   "source": [
    "## 3 Configuring the Stopwatch in a Jupyter Notebook\n",
    "\n",
    "The behavior of the stopwatch is configured by including the stopwatch behavior parameters in the url, which is rendered in Jupyter inside an iFrame. The 4 stopwatch behavior parameters can all be set independently of each other, and they all have default values (see table above) in case they are omitted. Below we put some examples to get you started.\n",
    "\n",
    "### 3.1 A simple stopwatch that does not save data\n",
    "Note that the code to pass through `class_id`, `user_id`, and `condition` has been removed from the url, and the code `save_data=false` has been added."
   ]
  },
  {
   "cell_type": "code",
   "execution_count": 3,
   "metadata": {
    "scrolled": true
   },
   "outputs": [
    {
     "data": {
      "text/html": [
       "<iframe src=\"https://uclatall.github.io/stopwatch/stopwatch-v3.html?save_data=false\" width=\"500\" height=\"210\" sandbox=\"allow-scripts allow-same-origin\"></iframe>"
      ]
     },
     "metadata": {},
     "output_type": "display_data"
    }
   ],
   "source": [
    "# then run this code to render the stopwatch\n",
    "IRdisplay::display_html(sprintf(\n",
    "  '<iframe src=\"https://uclatall.github.io/stopwatch/stopwatch-v3.html?save_data=false\" width=\"500\" height=\"210\" sandbox=\"allow-scripts allow-same-origin\"></iframe>'\n",
    "))"
   ]
  },
  {
   "cell_type": "markdown",
   "metadata": {},
   "source": [
    "### 3.2 A simple stopwatch hides the time while running. It also does not record data. Use to make a game for estimating elapsed time.\n",
    "To do this we just add `progress=hide` to the url."
   ]
  },
  {
   "cell_type": "code",
   "execution_count": 4,
   "metadata": {
    "scrolled": true
   },
   "outputs": [
    {
     "data": {
      "text/html": [
       "<iframe src=\"https://uclatall.github.io/stopwatch/stopwatch-v3.html?save_data=false&progress=hide\" width=\"500\" height=\"210\" sandbox=\"allow-scripts allow-same-origin\"></iframe>"
      ]
     },
     "metadata": {},
     "output_type": "display_data"
    }
   ],
   "source": [
    "# then run this code to render the stopwatch\n",
    "IRdisplay::display_html(sprintf(\n",
    "  '<iframe src=\"https://uclatall.github.io/stopwatch/stopwatch-v3.html?save_data=false&progress=hide\" width=\"500\" height=\"210\" sandbox=\"allow-scripts allow-same-origin\"></iframe>'\n",
    "))"
   ]
  },
  {
   "cell_type": "markdown",
   "metadata": {},
   "source": [
    "### 3.3 A simple stopwatch that records data in the Google sheet\n",
    "To record data just remove `save_data=false` from the url, or replace it with `save_data=true`."
   ]
  },
  {
   "cell_type": "code",
   "execution_count": 5,
   "metadata": {
    "scrolled": false
   },
   "outputs": [
    {
     "data": {
      "text/html": [
       "<iframe src=\"https://uclatall.github.io/stopwatch/stopwatch-v3.html?condition=none&class_id=teacher@school.org&user_id=e0d4a3e1d64a42acbd39ac36c94b0f7f\" width=\"500\" height=\"210\" sandbox=\"allow-scripts allow-same-origin\"></iframe>"
      ]
     },
     "metadata": {},
     "output_type": "display_data"
    }
   ],
   "source": [
    "# then run this code to render the stopwatch\n",
    "IRdisplay::display_html(sprintf(\n",
    "  '<iframe src=\"https://uclatall.github.io/stopwatch/stopwatch-v3.html?condition=%s&class_id=%s&user_id=%s\" width=\"500\" height=\"210\" sandbox=\"allow-scripts allow-same-origin\"></iframe>',\n",
    "  condition, class_id, user_id\n",
    "))"
   ]
  },
  {
   "cell_type": "markdown",
   "metadata": {},
   "source": [
    "### 3.4 If you want to hide the time while the timer is running, include `progress=hide` in the url"
   ]
  },
  {
   "cell_type": "code",
   "execution_count": 6,
   "metadata": {
    "scrolled": false
   },
   "outputs": [
    {
     "data": {
      "text/html": [
       "<iframe src=\"https://uclatall.github.io/stopwatch/stopwatch-v3.html?condition=none&class_id=teacher@school.org&user_id=e0d4a3e1d64a42acbd39ac36c94b0f7f&progress=hide\" width=\"500\" height=\"210\" sandbox=\"allow-scripts allow-same-origin\"></iframe>"
      ]
     },
     "metadata": {},
     "output_type": "display_data"
    }
   ],
   "source": [
    "# then run this code to render the stopwatch\n",
    "IRdisplay::display_html(sprintf(\n",
    "  '<iframe src=\"https://uclatall.github.io/stopwatch/stopwatch-v3.html?condition=%s&class_id=%s&user_id=%s&progress=hide\" width=\"500\" height=\"210\" sandbox=\"allow-scripts allow-same-origin\"></iframe>',\n",
    "  condition, class_id, user_id\n",
    "))"
   ]
  },
  {
   "cell_type": "markdown",
   "metadata": {},
   "source": [
    "### 3.5 If you want to hide the time while the timer is running and also not show the resulting time, you can include both `progress=hide` and `result=hide` in the url"
   ]
  },
  {
   "cell_type": "code",
   "execution_count": 7,
   "metadata": {
    "scrolled": true
   },
   "outputs": [
    {
     "data": {
      "text/html": [
       "<iframe src=\"https://uclatall.github.io/stopwatch/stopwatch-v3.html?condition=none&class_id=teacher@school.org&user_id=e0d4a3e1d64a42acbd39ac36c94b0f7f&progress=hide&result=hide\" width=\"500\" height=\"210\" sandbox=\"allow-scripts allow-same-origin\"></iframe>"
      ]
     },
     "metadata": {},
     "output_type": "display_data"
    }
   ],
   "source": [
    "# then run this code to render the stopwatch\n",
    "IRdisplay::display_html(sprintf(\n",
    "  '<iframe src=\"https://uclatall.github.io/stopwatch/stopwatch-v3.html?condition=%s&class_id=%s&user_id=%s&progress=hide&result=hide\" width=\"500\" height=\"210\" sandbox=\"allow-scripts allow-same-origin\"></iframe>',\n",
    "  condition, class_id, user_id\n",
    "))"
   ]
  },
  {
   "cell_type": "markdown",
   "metadata": {},
   "source": [
    "### 3.6 If you want to limit the number of trials\n",
    "If you want to limit the number of trials a user can have, simply add `&trials=3` (for example) at the end of the url as in the example below."
   ]
  },
  {
   "cell_type": "code",
   "execution_count": 8,
   "metadata": {
    "scrolled": true
   },
   "outputs": [
    {
     "data": {
      "text/html": [
       "<iframe src=\"https://uclatall.github.io/stopwatch/stopwatch-v3.html?condition=none&class_id=teacher@school.org&user_id=e0d4a3e1d64a42acbd39ac36c94b0f7f&trials=3\" width=\"500\" height=\"220\" sandbox=\"allow-scripts allow-same-origin\"></iframe>"
      ]
     },
     "metadata": {},
     "output_type": "display_data"
    }
   ],
   "source": [
    "# then run this code to render the stopwatch\n",
    "IRdisplay::display_html(sprintf(\n",
    "  '<iframe src=\"https://uclatall.github.io/stopwatch/stopwatch-v3.html?condition=%s&class_id=%s&user_id=%s&trials=3\" width=\"500\" height=\"220\" sandbox=\"allow-scripts allow-same-origin\"></iframe>',\n",
    "  condition, class_id, user_id\n",
    "))"
   ]
  },
  {
   "cell_type": "markdown",
   "metadata": {},
   "source": [
    "### 3.7 You can limit the trials while also hiding the resulting time after each trial (`result=hide`) and hiding the time while the stopwatch is running (`progress=hide`)."
   ]
  },
  {
   "cell_type": "code",
   "execution_count": 9,
   "metadata": {
    "scrolled": true
   },
   "outputs": [
    {
     "data": {
      "text/html": [
       "<iframe src=\"https://uclatall.github.io/stopwatch/stopwatch-v3.html?condition=none&class_id=teacher@school.org&user_id=e0d4a3e1d64a42acbd39ac36c94b0f7f&trials=3&result=hide&progress=hide\" width=\"500\" height=\"220\" sandbox=\"allow-scripts allow-same-origin\"></iframe>"
      ]
     },
     "metadata": {},
     "output_type": "display_data"
    }
   ],
   "source": [
    "# then run this code to render the stopwatch\n",
    "IRdisplay::display_html(sprintf(\n",
    "  '<iframe src=\"https://uclatall.github.io/stopwatch/stopwatch-v3.html?condition=%s&class_id=%s&user_id=%s&trials=3&result=hide&progress=hide\" width=\"500\" height=\"220\" sandbox=\"allow-scripts allow-same-origin\"></iframe>',\n",
    "  condition, class_id, user_id\n",
    "))"
   ]
  },
  {
   "cell_type": "markdown",
   "metadata": {},
   "source": [
    "## 4 Reading the Data Into R\n",
    "After running the stopwatch, the data will be immediately available. Use the code in the next cells to import the data into R.\n",
    "### 4.1 Import all available data\n",
    "Note that after importing data we transform the `data` variable into POSIXct format to make it easier to use."
   ]
  },
  {
   "cell_type": "code",
   "execution_count": 10,
   "metadata": {
    "scrolled": true
   },
   "outputs": [
    {
     "name": "stdout",
     "output_type": "stream",
     "text": [
      "'data.frame':\t42 obs. of  7 variables:\n",
      " $ class_id  : chr  \"jim_monday\" \"teacher@myschool.com\" \"teacher@myschool.com\" \"teacher@myschool.com\" ...\n",
      " $ user_id   : chr  \"e0d4a3e1d64a42acbd39ac36c94b0f7f\" \"e0d4a3e1d64a42acbd39ac36c94b0f7f\" \"e0d4a3e1d64a42acbd39ac36c94b0f7f\" \"e0d4a3e1d64a42acbd39ac36c94b0f7f\" ...\n",
      " $ session_id: chr  \"4rs28\" \"6i8ez\" \"6i8ez\" \"iegbu\" ...\n",
      " $ date      : POSIXct, format: \"2025-07-17 02:11:25\" \"2025-07-18 15:35:35\" ...\n",
      " $ condition : chr  \"timer\" \"guess\" \"guess\" \"guess\" ...\n",
      " $ trial     : int  1 1 2 1 2 3 4 5 1 1 ...\n",
      " $ time_sec  : num  1 1.7 2.3 1.5 1.7 1.9 1.8 1.7 2.2 1.5 ...\n"
     ]
    }
   ],
   "source": [
    "# run this code to import all data\n",
    "sheet_url <- \"https://docs.google.com/spreadsheets/d/e/2PACX-1vQRi4VBEFYGz_HnJXBsxlawbqM4vg5vgullb-iIqc5-dOpqEBCck12IS7lPD7bEdoxe8VPKYKe86Db4/pub?output=csv\"\n",
    "data <- utils::read.csv(sheet_url, header = TRUE, stringsAsFactors = FALSE) %>%\n",
    "  mutate(date = as.POSIXct(date, format = \"%Y-%m-%dT%H:%M:%OSZ\", tz = \"UTC\"))\n",
    "str(data)"
   ]
  },
  {
   "cell_type": "markdown",
   "metadata": {},
   "source": [
    "### 4.2 Import only the data from your class into R\n",
    "Note we are adding filter and select code to reduce the size of the imported dataset. Note that earlier in this notebook you need to have set values for `class_id`, `user_id`, and `condition`. "
   ]
  },
  {
   "cell_type": "code",
   "execution_count": 11,
   "metadata": {},
   "outputs": [
    {
     "name": "stdout",
     "output_type": "stream",
     "text": [
      "'data.frame':\t0 obs. of  5 variables:\n",
      " $ user_id  : chr \n",
      " $ class_id : chr \n",
      " $ condition: chr \n",
      " $ time_sec : num \n",
      " $ date     : 'POSIXct' num(0) \n",
      " - attr(*, \"tzone\")= chr \"UTC\"\n"
     ]
    }
   ],
   "source": [
    "# run this code to import only data from your class\n",
    "sheet_url <- \"https://docs.google.com/spreadsheets/d/e/2PACX-1vQRi4VBEFYGz_HnJXBsxlawbqM4vg5vgullb-iIqc5-dOpqEBCck12IS7lPD7bEdoxe8VPKYKe86Db4/pub?output=csv\"\n",
    "data <- utils::read.csv(sheet_url, header = TRUE, stringsAsFactors = FALSE) %>%\n",
    "  mutate(date = as.POSIXct(date, format = \"%Y-%m-%dT%H:%M:%OSZ\", tz = \"UTC\")) %>%\n",
    "  filter(class_id == !!class_id) %>%\n",
    "  select(user_id, class_id, condition, time_sec, date)\n",
    "str(data)"
   ]
  },
  {
   "cell_type": "markdown",
   "metadata": {},
   "source": [
    "### 4.3 This code will import only the user's own data into R"
   ]
  },
  {
   "cell_type": "code",
   "execution_count": 12,
   "metadata": {},
   "outputs": [
    {
     "name": "stdout",
     "output_type": "stream",
     "text": [
      "'data.frame':\t42 obs. of  5 variables:\n",
      " $ user_id  : chr  \"e0d4a3e1d64a42acbd39ac36c94b0f7f\" \"e0d4a3e1d64a42acbd39ac36c94b0f7f\" \"e0d4a3e1d64a42acbd39ac36c94b0f7f\" \"e0d4a3e1d64a42acbd39ac36c94b0f7f\" ...\n",
      " $ class_id : chr  \"jim_monday\" \"teacher@myschool.com\" \"teacher@myschool.com\" \"teacher@myschool.com\" ...\n",
      " $ condition: chr  \"timer\" \"guess\" \"guess\" \"guess\" ...\n",
      " $ time_sec : num  1 1.7 2.3 1.5 1.7 1.9 1.8 1.7 2.2 1.5 ...\n",
      " $ date     : POSIXct, format: \"2025-07-17 02:11:25\" \"2025-07-18 15:35:35\" ...\n"
     ]
    }
   ],
   "source": [
    "# run this code to import only the user's own data\n",
    "sheet_url <- \"https://docs.google.com/spreadsheets/d/e/2PACX-1vQRi4VBEFYGz_HnJXBsxlawbqM4vg5vgullb-iIqc5-dOpqEBCck12IS7lPD7bEdoxe8VPKYKe86Db4/pub?output=csv\"\n",
    "data <- utils::read.csv(sheet_url, header = TRUE, stringsAsFactors = FALSE) %>%\n",
    "  mutate(date = as.POSIXct(date, format = \"%Y-%m-%dT%H:%M:%OSZ\", tz = \"UTC\")) %>%\n",
    "  filter(user_id == !!user_id) %>%\n",
    "  select(user_id, class_id, condition, time_sec, date)\n",
    "str(data)"
   ]
  },
  {
   "cell_type": "markdown",
   "metadata": {},
   "source": [
    "### 4.4 This code will import only the user's own data from the current `class_id`"
   ]
  },
  {
   "cell_type": "code",
   "execution_count": 13,
   "metadata": {},
   "outputs": [
    {
     "name": "stdout",
     "output_type": "stream",
     "text": [
      "'data.frame':\t0 obs. of  5 variables:\n",
      " $ user_id  : chr \n",
      " $ class_id : chr \n",
      " $ condition: chr \n",
      " $ time_sec : num \n",
      " $ date     : 'POSIXct' num(0) \n",
      " - attr(*, \"tzone\")= chr \"UTC\"\n"
     ]
    }
   ],
   "source": [
    "# run this code to only the user's own data\n",
    "sheet_url <- \"https://docs.google.com/spreadsheets/d/e/2PACX-1vQRi4VBEFYGz_HnJXBsxlawbqM4vg5vgullb-iIqc5-dOpqEBCck12IS7lPD7bEdoxe8VPKYKe86Db4/pub?output=csv\"\n",
    "data <- utils::read.csv(sheet_url, header = TRUE, stringsAsFactors = FALSE) %>%\n",
    "  mutate(date = as.POSIXct(date, format = \"%Y-%m-%dT%H:%M:%OSZ\", tz = \"UTC\")) %>%\n",
    "  filter(user_id == !!user_id, class_id == !!class_id) %>%\n",
    "  select(user_id, class_id, condition, time_sec, date)\n",
    "str(data)"
   ]
  },
  {
   "cell_type": "markdown",
   "metadata": {},
   "source": [
    "### 4.5 This code will import only data from your class generated within the past 1 hour"
   ]
  },
  {
   "cell_type": "code",
   "execution_count": 14,
   "metadata": {},
   "outputs": [
    {
     "name": "stdout",
     "output_type": "stream",
     "text": [
      "'data.frame':\t0 obs. of  5 variables:\n",
      " $ user_id  : chr \n",
      " $ class_id : chr \n",
      " $ condition: chr \n",
      " $ time_sec : num \n",
      " $ date     : 'POSIXct' num(0) \n",
      " - attr(*, \"tzone\")= chr \"UTC\"\n"
     ]
    }
   ],
   "source": [
    "# run this code to only the user's own data\n",
    "sheet_url <- \"https://docs.google.com/spreadsheets/d/e/2PACX-1vQRi4VBEFYGz_HnJXBsxlawbqM4vg5vgullb-iIqc5-dOpqEBCck12IS7lPD7bEdoxe8VPKYKe86Db4/pub?output=csv\"\n",
    "data <- utils::read.csv(sheet_url, header = TRUE, stringsAsFactors = FALSE) %>%\n",
    "  mutate(date = as.POSIXct(date, format = \"%Y-%m-%dT%H:%M:%OSZ\", tz = \"UTC\")) %>%\n",
    "  filter(class_id == !!class_id, date >= Sys.time() - 3600) %>%\n",
    "  select(user_id, class_id, condition, time_sec, date)\n",
    "str(data)"
   ]
  },
  {
   "cell_type": "markdown",
   "metadata": {},
   "source": [
    "### 4.6 This code will import only data from the most recent session of the current user"
   ]
  },
  {
   "cell_type": "code",
   "execution_count": 15,
   "metadata": {},
   "outputs": [
    {
     "name": "stdout",
     "output_type": "stream",
     "text": [
      "'data.frame':\t1 obs. of  5 variables:\n",
      " $ user_id   : chr \"e0d4a3e1d64a42acbd39ac36c94b0f7f\"\n",
      " $ class_id  : chr \"teacher@myschool.com\"\n",
      " $ session_id: chr \"h00in\"\n",
      " $ time_sec  : num 1.3\n",
      " $ date      : POSIXct, format: \"2025-07-18 17:23:57\"\n"
     ]
    }
   ],
   "source": [
    "# run this code to only the user's own data\n",
    "sheet_url <- \"https://docs.google.com/spreadsheets/d/e/2PACX-1vQRi4VBEFYGz_HnJXBsxlawbqM4vg5vgullb-iIqc5-dOpqEBCck12IS7lPD7bEdoxe8VPKYKe86Db4/pub?output=csv\"\n",
    "data <- utils::read.csv(sheet_url, header = TRUE, stringsAsFactors = FALSE) %>%\n",
    "  mutate(date = as.POSIXct(date, format = \"%Y-%m-%dT%H:%M:%OSZ\", tz = \"UTC\")) %>%\n",
    "  filter(user_id == !!user_id) %>%\n",
    "  filter(session_id == session_id[which.max(date)]) %>%\n",
    "  select(user_id, class_id, session_id, time_sec, date)\n",
    "str(data)"
   ]
  },
  {
   "cell_type": "markdown",
   "metadata": {},
   "source": [
    "### 4.7 This code will import only data from the most recent session from the current class"
   ]
  },
  {
   "cell_type": "code",
   "execution_count": 16,
   "metadata": {},
   "outputs": [
    {
     "name": "stdout",
     "output_type": "stream",
     "text": [
      "'data.frame':\t0 obs. of  6 variables:\n",
      " $ user_id   : chr \n",
      " $ class_id  : chr \n",
      " $ session_id: chr \n",
      " $ trial     : int \n",
      " $ time_sec  : num \n",
      " $ date      : 'POSIXct' num(0) \n",
      " - attr(*, \"tzone\")= chr \"UTC\"\n"
     ]
    }
   ],
   "source": [
    "# run this code to only the user's own data\n",
    "sheet_url <- \"https://docs.google.com/spreadsheets/d/e/2PACX-1vQRi4VBEFYGz_HnJXBsxlawbqM4vg5vgullb-iIqc5-dOpqEBCck12IS7lPD7bEdoxe8VPKYKe86Db4/pub?output=csv\"\n",
    "data <- utils::read.csv(sheet_url, header = TRUE, stringsAsFactors = FALSE) %>%\n",
    "  mutate(date = as.POSIXct(date, format = \"%Y-%m-%dT%H:%M:%OSZ\", tz = \"UTC\")) %>%\n",
    "  filter(class_id == !!class_id) %>%\n",
    "  filter(session_id == session_id[which.max(date)]) %>%\n",
    "  select(user_id, class_id, session_id, trial, time_sec, date)\n",
    "str(data)"
   ]
  }
 ],
 "metadata": {
  "deepnote_execution_queue": [],
  "deepnote_notebook_id": "608933bb-f248-4876-a618-1c815f90aa5a",
  "kernelspec": {
   "display_name": "R",
   "language": "R",
   "name": "ir"
  },
  "language_info": {
   "codemirror_mode": "r",
   "file_extension": ".r",
   "mimetype": "text/x-r-source",
   "name": "R",
   "pygments_lexer": "r",
   "version": "4.3.3"
  },
  "nbsimplegrader": {
   "publish_config": {
    "classes": [],
    "options": {},
    "tools": []
   }
  }
 },
 "nbformat": 4,
 "nbformat_minor": 2
}
